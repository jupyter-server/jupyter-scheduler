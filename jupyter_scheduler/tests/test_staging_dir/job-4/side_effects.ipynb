{
 "cells": [
  {
   "cell_type": "code",
   "execution_count": 1,
   "id": "c50a275a-977b-4f01-8303-f33205f12d37",
   "metadata": {},
   "outputs": [],
   "source": [
    "file_path = \"output_side_effect.txt\"\n",
    "with open(file_path, \"w\") as file:\n",
    "    file.write(\"This file is a test side effect created by the notebook.\")"
   ]
  },
  {
   "cell_type": "code",
   "execution_count": null,
   "id": "b2609dba-5616-4ace-a14b-df92dba6e2fd",
   "metadata": {},
   "outputs": [],
   "source": []
  }
 ],
 "metadata": {
  "kernelspec": {
   "display_name": "Python 3 (ipykernel)",
   "language": "python",
   "name": "python3"
  },
  "language_info": {
   "codemirror_mode": {
    "name": "ipython",
    "version": 3
   },
   "file_extension": ".py",
   "mimetype": "text/x-python",
   "name": "python",
   "nbconvert_exporter": "python",
   "pygments_lexer": "ipython3",
   "version": "3.11.9"
  }
 },
 "nbformat": 4,
 "nbformat_minor": 5
}
