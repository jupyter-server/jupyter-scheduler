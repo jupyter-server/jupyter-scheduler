{
 "cells": [
  {
   "cell_type": "code",
   "execution_count": null,
   "id": "dbbca65f-4b6a-4490-94b6-f7cdd87e7023",
   "metadata": {},
   "outputs": [],
   "source": [
    "file_path = 'a/b/helloworld.txt'\n",
    "\n",
    "with open(file_path, 'r') as file:\n",
    "    content = file.read()\n",
    "\n",
    "print(content)"
   ]
  }
 ],
 "metadata": {
  "kernelspec": {
   "display_name": "Python 3 (ipykernel)",
   "language": "python",
   "name": "python3"
  },
  "language_info": {
   "codemirror_mode": {
    "name": "ipython",
    "version": 3
   },
   "file_extension": ".py",
   "mimetype": "text/x-python",
   "name": "python",
   "nbconvert_exporter": "python",
   "pygments_lexer": "ipython3",
   "version": "3.11.9"
  }
 },
 "nbformat": 4,
 "nbformat_minor": 5
}
