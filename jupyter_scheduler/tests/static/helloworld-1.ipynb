{
 "cells": [
  {
   "cell_type": "code",
   "execution_count": 1,
   "id": "c50a275a-977b-4f01-8303-f33205f12d37",
   "metadata": {
    "execution": {
     "iopub.execute_input": "2022-10-24T01:30:05.844179Z",
     "iopub.status.busy": "2022-10-24T01:30:05.843555Z",
     "iopub.status.idle": "2022-10-24T01:30:05.860197Z",
     "shell.execute_reply": "2022-10-24T01:30:05.859650Z"
    }
   },
   "outputs": [
    {
     "name": "stdout",
     "output_type": "stream",
     "text": [
      "hello world!\n"
     ]
    }
   ],
   "source": [
    "print(\"hello world!\")"
   ]
  }
 ],
 "metadata": {
  "kernelspec": {
   "display_name": "Python 3 (ipykernel)",
   "language": "python",
   "name": "python3"
  },
  "language_info": {
   "codemirror_mode": {
    "name": "ipython",
    "version": 3
   },
   "file_extension": ".py",
   "mimetype": "text/x-python",
   "name": "python",
   "nbconvert_exporter": "python",
   "pygments_lexer": "ipython3",
   "version": "3.9.13"
  }
 },
 "nbformat": 4,
 "nbformat_minor": 5
}
